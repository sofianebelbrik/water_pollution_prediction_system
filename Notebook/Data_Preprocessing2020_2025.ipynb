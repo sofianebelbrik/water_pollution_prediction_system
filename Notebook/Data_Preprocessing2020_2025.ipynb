{
 "cells": [
  {
   "cell_type": "code",
   "execution_count": 1,
   "id": "9478fe06-c320-418c-ac46-61efb99920e5",
   "metadata": {},
   "outputs": [
    {
     "ename": "ModuleNotFoundError",
     "evalue": "No module named 'pyproj'",
     "output_type": "error",
     "traceback": [
      "\u001b[0;31m---------------------------------------------------------------------------\u001b[0m",
      "\u001b[0;31mModuleNotFoundError\u001b[0m                       Traceback (most recent call last)",
      "Cell \u001b[0;32mIn[1], line 3\u001b[0m\n\u001b[1;32m      1\u001b[0m \u001b[38;5;28;01mimport\u001b[39;00m\u001b[38;5;250m \u001b[39m\u001b[38;5;21;01mpandas\u001b[39;00m\u001b[38;5;250m \u001b[39m\u001b[38;5;28;01mas\u001b[39;00m\u001b[38;5;250m \u001b[39m\u001b[38;5;21;01mpd\u001b[39;00m  \u001b[38;5;66;03m# For data manipulation\u001b[39;00m\n\u001b[1;32m      2\u001b[0m \u001b[38;5;28;01mimport\u001b[39;00m\u001b[38;5;250m \u001b[39m\u001b[38;5;21;01mglob\u001b[39;00m  \u001b[38;5;66;03m# For file handling\u001b[39;00m\n\u001b[0;32m----> 3\u001b[0m \u001b[38;5;28;01mfrom\u001b[39;00m\u001b[38;5;250m \u001b[39m\u001b[38;5;21;01mpyproj\u001b[39;00m\u001b[38;5;250m \u001b[39m\u001b[38;5;28;01mimport\u001b[39;00m Transformer \n\u001b[1;32m      4\u001b[0m \u001b[38;5;28;01mimport\u001b[39;00m\u001b[38;5;250m \u001b[39m\u001b[38;5;21;01mmatplotlib\u001b[39;00m\u001b[38;5;21;01m.\u001b[39;00m\u001b[38;5;21;01mpyplot\u001b[39;00m\u001b[38;5;250m \u001b[39m\u001b[38;5;28;01mas\u001b[39;00m\u001b[38;5;250m \u001b[39m\u001b[38;5;21;01mplt\u001b[39;00m\n\u001b[1;32m      5\u001b[0m \u001b[38;5;28;01mfrom\u001b[39;00m\u001b[38;5;250m \u001b[39m\u001b[38;5;21;01msklearn\u001b[39;00m\u001b[38;5;21;01m.\u001b[39;00m\u001b[38;5;21;01mcluster\u001b[39;00m\u001b[38;5;250m \u001b[39m\u001b[38;5;28;01mimport\u001b[39;00m KMeans\n",
      "\u001b[0;31mModuleNotFoundError\u001b[0m: No module named 'pyproj'"
     ]
    }
   ],
   "source": [
    "import pandas as pd  # For data manipulation\n",
    "import glob  # For file handling\n",
    "from pyproj import Transformer \n",
    "import matplotlib.pyplot as plt\n",
    "from sklearn.cluster import KMeans"
   ]
  },
  {
   "cell_type": "code",
   "execution_count": null,
   "id": "0b263e63-967c-4079-a0ab-436b0b46b8e0",
   "metadata": {},
   "outputs": [],
   "source": []
  },
  {
   "cell_type": "code",
   "execution_count": 305,
   "id": "1ed196d6-d07c-42a6-9d96-43a4558b8eb7",
   "metadata": {},
   "outputs": [],
   "source": [
    "folder_path = '/Users/sofianebelbrik/Documents/water pollution/Data/Raw/'"
   ]
  },
  {
   "cell_type": "code",
   "execution_count": null,
   "id": "8855508f-a2f2-44d7-ac49-3c4f7eafc935",
   "metadata": {},
   "outputs": [],
   "source": []
  },
  {
   "cell_type": "code",
   "execution_count": 307,
   "id": "aaa869c4-a39e-4686-a38e-9b068d937168",
   "metadata": {},
   "outputs": [],
   "source": [
    "years = range(2020, 2025)"
   ]
  },
  {
   "cell_type": "code",
   "execution_count": null,
   "id": "71d0d11e-ee8f-456c-8688-d11dd266e6f4",
   "metadata": {},
   "outputs": [],
   "source": []
  },
  {
   "cell_type": "code",
   "execution_count": null,
   "id": "f156504c-0d31-40bb-93eb-b576b640762e",
   "metadata": {},
   "outputs": [],
   "source": [
    "# Creating an empty list to store file paths\n",
    "files = []\n",
    "\n",
    "# Looping through each year and find the corresponding CSV files\n",
    "for year in years:\n",
    "    file_pattern = folder_path + f'{year}-M.csv'  # Format file name pattern\n",
    "    files.extend(glob.glob(file_pattern))  # Append all matching files to the list\n",
    "\n",
    "# Printing the files that were found\n",
    "print(\"Files found:\", files)\n",
    "\n",
    "# Loading all CSV files into a list of DataFrames\n",
    "df_list = [pd.read_csv(file) for file in files]  # Read each file into a DataFrame\n",
    "\n",
    "# Concatenating all DataFrames into one large DataFrame\n",
    "data_2020_2025 = pd.concat(df_list, ignore_index=True)\n",
    "\n",
    "# Displaying the shape of the final dataset (for debugging)\n",
    "print(\"Final dataset shape:\", data_2020_2025.shape)  \n",
    "\n"
   ]
  },
  {
   "cell_type": "code",
   "execution_count": null,
   "id": "fad7b7c2-8fa0-4bad-8598-f21ac15cc6a2",
   "metadata": {},
   "outputs": [],
   "source": []
  },
  {
   "cell_type": "code",
   "execution_count": null,
   "id": "a3917fa2-6c16-45cb-a4c1-a39cc68bdf22",
   "metadata": {},
   "outputs": [],
   "source": [
    "df_list = [pd.read_csv(file) for file in files]\n",
    "data_2020_2024 = pd.concat(df_list, ignore_index=True)\n",
    "print(data_2020_2024.shape) "
   ]
  },
  {
   "cell_type": "code",
   "execution_count": null,
   "id": "5a5ee8bf-994f-4c41-87ce-ab6d70551949",
   "metadata": {},
   "outputs": [],
   "source": []
  },
  {
   "cell_type": "code",
   "execution_count": null,
   "id": "040e7ee4-232a-4fec-99e6-a9903cda2bfd",
   "metadata": {},
   "outputs": [],
   "source": [
    "data_2020_2024.head()"
   ]
  },
  {
   "cell_type": "code",
   "execution_count": null,
   "id": "217e6ab1-ee4d-4c0c-99be-6b1f8a75282c",
   "metadata": {},
   "outputs": [],
   "source": []
  },
  {
   "cell_type": "code",
   "execution_count": null,
   "id": "6522f5c8-4b88-45ed-85aa-80d2cdcaf817",
   "metadata": {},
   "outputs": [],
   "source": []
  },
  {
   "cell_type": "code",
   "execution_count": null,
   "id": "e404a794-c72c-4b72-a789-1ad8824ed867",
   "metadata": {},
   "outputs": [],
   "source": []
  },
  {
   "cell_type": "code",
   "execution_count": null,
   "id": "94eef55b-e2df-4a57-8937-19776e0b7254",
   "metadata": {},
   "outputs": [],
   "source": [
    "# Defining columns to retain\n",
    "columns_to_keep = [\n",
    "    'sample.sampleDateTime',   # Timestamp of the sample collection\n",
    "    'determinand.label',       # Water quality parameter name\n",
    "    'result',                  # Measurement value of the parameter\n",
    "    'determinand.unit.label',  # Unit of measurement\n",
    "    'sample.samplingPoint.easting',  # X coordinate of the sampling location\n",
    "    'sample.samplingPoint.northing', # Y coordinate of the sampling location\n",
    "    'sample.sampledMaterialType.label'  # Type of water \n",
    "]\n",
    "\n",
    "# Keeping only these columns in the dataset\n",
    "data_2020_2024 = data_2020_2024[columns_to_keep]\n",
    "\n",
    "# Displaying the first few rows for verification\n",
    "print(\"Preview of filtered dataset:\")\n",
    "print(data_2020_2024.head())"
   ]
  },
  {
   "cell_type": "code",
   "execution_count": null,
   "id": "3d9aed07-19a0-4f49-907f-5ab0580800bb",
   "metadata": {},
   "outputs": [],
   "source": []
  },
  {
   "cell_type": "code",
   "execution_count": null,
   "id": "8f882a47-3e9f-4d68-b994-55ad0f164b6b",
   "metadata": {},
   "outputs": [],
   "source": []
  },
  {
   "cell_type": "code",
   "execution_count": null,
   "id": "4c00bae5-7407-4f24-a7ad-0131e29efb5f",
   "metadata": {},
   "outputs": [],
   "source": []
  },
  {
   "cell_type": "code",
   "execution_count": null,
   "id": "a2e9092c-e162-4a33-96b6-e6a601a93471",
   "metadata": {},
   "outputs": [],
   "source": []
  },
  {
   "cell_type": "code",
   "execution_count": null,
   "id": "b3716447-3678-4be2-a526-36c186fab484",
   "metadata": {},
   "outputs": [],
   "source": [
    "# Listing unique values in 'determinand.label' column \n",
    "unique_determinand_labels = data_2020_2024['determinand.label'].unique()\n",
    "\n",
    "# Displaying unique parameter names\n",
    "print(\"Unique water quality parameters in dataset:\")\n",
    "print(unique_determinand_labels)"
   ]
  },
  {
   "cell_type": "code",
   "execution_count": null,
   "id": "e7dbd451-d584-4923-b3aa-298dc0ae1eb5",
   "metadata": {},
   "outputs": [],
   "source": []
  },
  {
   "cell_type": "code",
   "execution_count": null,
   "id": "f280a310-c4f2-443c-b47b-170fcf52b18d",
   "metadata": {},
   "outputs": [],
   "source": []
  },
  {
   "cell_type": "code",
   "execution_count": null,
   "id": "a053c605-5839-4bde-9b05-08b93184f53e",
   "metadata": {},
   "outputs": [],
   "source": [
    "# Defining the key water quality parameters to keep\n",
    "key_parameters = [\n",
    "    'O Diss %sat',   # Oxygen Dissolved Percentage Saturation\n",
    "    'Orthophospht',   # Orthophosphate\n",
    "    'Ammonia(N)',     # Ammonia Nitrogen\n",
    "    'Temp Water',     # Water Temperature\n",
    "    'pH',             # pH Level\n",
    "    'Nitrite-N',      # Nitrite Nitrogen\n",
    "    'Nitrate-N',      # Nitrate Nitrogen\n",
    "    'TurbidityNTU',   # Turbidity\n",
    "    'BOD ATU',        # Biochemical Oxygen Demand\n",
    "    'Phosphorus-P'    # Phosphorus\n",
    "]\n",
    "\n",
    "# Filtering the dataset to keep only these parameters\n",
    "data_2020_2024 = data_2020_2024[data_2020_2024['determinand.label'].isin(key_parameters)]\n",
    "\n",
    "# Confirming the filtering\n",
    "print(\"Dataset shape after filtering key water parameters:\", data_2020_2024.shape)"
   ]
  },
  {
   "cell_type": "code",
   "execution_count": null,
   "id": "9040fb04-8f76-4e14-ac85-24f92ed512e8",
   "metadata": {},
   "outputs": [],
   "source": []
  },
  {
   "cell_type": "code",
   "execution_count": null,
   "id": "bb82b0ce-6aed-44b7-8781-469bd4979982",
   "metadata": {},
   "outputs": [],
   "source": []
  },
  {
   "cell_type": "code",
   "execution_count": null,
   "id": "08bb9518-bbe7-4dcf-ae69-a131f9db7257",
   "metadata": {},
   "outputs": [],
   "source": []
  },
  {
   "cell_type": "code",
   "execution_count": null,
   "id": "be6ba5d5-8430-4695-82f5-1068f9b34175",
   "metadata": {},
   "outputs": [],
   "source": []
  },
  {
   "cell_type": "code",
   "execution_count": null,
   "id": "1666bd71-accc-43f6-90a6-ba05c13f4b4e",
   "metadata": {},
   "outputs": [],
   "source": [
    "# Listing unique water types present in the dataset\n",
    "unique_water_types = data_2020_2024['sample.sampledMaterialType.label'].unique()\n",
    "\n",
    "# Displaying unique water types\n",
    "print(\"Unique water types in dataset:\")\n",
    "print(unique_water_types)"
   ]
  },
  {
   "cell_type": "code",
   "execution_count": null,
   "id": "bd67ddbf-5be2-424f-9adb-02ba64147a8e",
   "metadata": {},
   "outputs": [],
   "source": []
  },
  {
   "cell_type": "code",
   "execution_count": null,
   "id": "77e31dfe-6e5d-4215-b9d0-66d65ebf270b",
   "metadata": {},
   "outputs": [],
   "source": []
  },
  {
   "cell_type": "code",
   "execution_count": null,
   "id": "4419aba1-6a2b-4b3e-b536-7f9894cc08d5",
   "metadata": {},
   "outputs": [],
   "source": []
  },
  {
   "cell_type": "code",
   "execution_count": null,
   "id": "c8202dd2-af03-4de3-a2c4-9814ae248218",
   "metadata": {},
   "outputs": [],
   "source": []
  },
  {
   "cell_type": "code",
   "execution_count": null,
   "id": "f63439fc-7ce0-4671-9fcd-d6967fef8be5",
   "metadata": {},
   "outputs": [],
   "source": [
    "# Defining relevant water types for drinking and bathing\n",
    "key_water_types = [\n",
    "    'GROUNDWATER',  # Underground water (important for drinking)\n",
    "    'RIVER / RUNNING SURFACE WATER',  # Flowing water bodies\n",
    "    'POND / LAKE / RESERVOIR WATER'  # Still water bodies\n",
    "]\n",
    "\n",
    "# Filtering dataset to keep only these water types\n",
    "data_2020_2024 = data_2020_2024[data_2020_2024['sample.sampledMaterialType.label'].isin(key_water_types)]\n",
    "\n",
    "# Confirming the filtering\n",
    "print(\"Dataset shape after filtering key water types:\", data_2020_2024.shape)"
   ]
  },
  {
   "cell_type": "code",
   "execution_count": null,
   "id": "14b0a11c-f3bf-4b0f-b299-b9dc286e4ee3",
   "metadata": {},
   "outputs": [],
   "source": []
  },
  {
   "cell_type": "code",
   "execution_count": null,
   "id": "aeb8b905-5ea2-423f-97f0-de9cd304ddbf",
   "metadata": {},
   "outputs": [],
   "source": []
  },
  {
   "cell_type": "code",
   "execution_count": null,
   "id": "8ba9e8a8-ce96-44ec-806e-b299af59478b",
   "metadata": {},
   "outputs": [],
   "source": [
    "print(\"Number of unique Easting values:\", data_2020_2024['sample.samplingPoint.easting'].nunique())\n",
    "print(\"Number of unique Northing values:\", data_2020_2024['sample.samplingPoint.northing'].nunique())"
   ]
  },
  {
   "cell_type": "code",
   "execution_count": null,
   "id": "a0e739f5-933a-4dc3-a36c-c63505a5a8b2",
   "metadata": {},
   "outputs": [],
   "source": []
  },
  {
   "cell_type": "code",
   "execution_count": null,
   "id": "f7c8ec32-1917-45e9-8105-dadbfd05d335",
   "metadata": {},
   "outputs": [],
   "source": []
  },
  {
   "cell_type": "code",
   "execution_count": null,
   "id": "ce3a7d5d-624c-4125-93a4-2e94fa3a54fc",
   "metadata": {},
   "outputs": [],
   "source": []
  },
  {
   "cell_type": "code",
   "execution_count": null,
   "id": "83140948-6109-47a0-884c-06f6eb327766",
   "metadata": {},
   "outputs": [],
   "source": []
  },
  {
   "cell_type": "code",
   "execution_count": null,
   "id": "4d861b4f-0030-4d66-b752-c1abc749229d",
   "metadata": {},
   "outputs": [],
   "source": [
    "data_2020_2024.head(40)"
   ]
  },
  {
   "cell_type": "code",
   "execution_count": null,
   "id": "25c4e567-d36f-4fad-8c51-9840c503a2f0",
   "metadata": {},
   "outputs": [],
   "source": []
  },
  {
   "cell_type": "code",
   "execution_count": null,
   "id": "ff539c73-51a3-4395-ad4e-3cc27468468a",
   "metadata": {},
   "outputs": [],
   "source": []
  },
  {
   "cell_type": "code",
   "execution_count": null,
   "id": "1dac3168-46af-4f12-878b-efe1e93b3ba6",
   "metadata": {},
   "outputs": [],
   "source": []
  },
  {
   "cell_type": "code",
   "execution_count": null,
   "id": "b51f7fab-4471-4600-b3f0-4cf5f58c4fba",
   "metadata": {},
   "outputs": [],
   "source": []
  },
  {
   "cell_type": "code",
   "execution_count": null,
   "id": "7830eb8b-dedf-49a0-aa15-66bd886c0eee",
   "metadata": {},
   "outputs": [],
   "source": []
  },
  {
   "cell_type": "code",
   "execution_count": null,
   "id": "1e0afccf-770c-4203-89ba-8212709a2d83",
   "metadata": {},
   "outputs": [],
   "source": [
    "# Finding unique measurement units for each parameter\n",
    "units_per_parameter = data_2020_2024.groupby(\"determinand.label\", observed=False)[\"determinand.unit.label\"].unique()\n",
    "\n",
    "# Converting to a DataFrame for better readability\n",
    "units_data_2020_2024 = units_per_parameter.explode().reset_index()\n",
    "\n",
    "# Displaying the units for each parameter\n",
    "print(\"Measurement units for each water quality parameter:\")\n",
    "print(units_data_2020_2024)"
   ]
  },
  {
   "cell_type": "code",
   "execution_count": null,
   "id": "8064f219-ae7c-45be-b15e-3da96c0f34d5",
   "metadata": {},
   "outputs": [],
   "source": []
  },
  {
   "cell_type": "code",
   "execution_count": null,
   "id": "92734536-5491-4d93-88a9-7519a6b462a7",
   "metadata": {},
   "outputs": [],
   "source": []
  },
  {
   "cell_type": "code",
   "execution_count": null,
   "id": "7473845e-a260-4716-ab64-ec70ea000cde",
   "metadata": {},
   "outputs": [],
   "source": []
  },
  {
   "cell_type": "code",
   "execution_count": null,
   "id": "f7ef1983-606e-46e4-ae07-5bf5bfefe45b",
   "metadata": {},
   "outputs": [],
   "source": [
    "num_unique_locations = data_2020_2024[['sample.samplingPoint.easting', 'sample.samplingPoint.northing']].drop_duplicates().shape[0]\n",
    "print(f\"Number of Unique Locations: {num_unique_locations}\")"
   ]
  },
  {
   "cell_type": "code",
   "execution_count": null,
   "id": "2eb25dc3-97d4-4d8e-8283-c28aa0518a7b",
   "metadata": {},
   "outputs": [],
   "source": []
  },
  {
   "cell_type": "code",
   "execution_count": null,
   "id": "76a41233-5e55-4e0a-9217-8c39d89d5189",
   "metadata": {},
   "outputs": [],
   "source": []
  },
  {
   "cell_type": "code",
   "execution_count": null,
   "id": "3a728d68-1994-4a06-ba41-f087b9d38719",
   "metadata": {},
   "outputs": [],
   "source": []
  },
  {
   "cell_type": "code",
   "execution_count": null,
   "id": "4cc73893-cfba-4853-9253-0b70cef1a3d0",
   "metadata": {},
   "outputs": [],
   "source": [
    "# Converting the 'sample.sampleDateTime' column to datetime format for time-based analysis\n",
    "data_2020_2024['sample.sampleDateTime'] = pd.to_datetime(data_2020_2024['sample.sampleDateTime'], errors='coerce')\n",
    "\n",
    "# Verifying conversion by checking the first few values\n",
    "print(\"DateTime conversion preview:\")\n",
    "print(data_2020_2024['sample.sampleDateTime'].head())"
   ]
  },
  {
   "cell_type": "code",
   "execution_count": null,
   "id": "7badaa9e-5e77-4f77-ac6a-52e8e02cf880",
   "metadata": {},
   "outputs": [],
   "source": []
  },
  {
   "cell_type": "code",
   "execution_count": null,
   "id": "2e2686b9-b65e-41f7-95e2-3f8aa9252be0",
   "metadata": {},
   "outputs": [],
   "source": []
  },
  {
   "cell_type": "code",
   "execution_count": null,
   "id": "5c6fc67d-4746-4e16-8924-5f87a5adeca4",
   "metadata": {},
   "outputs": [],
   "source": []
  },
  {
   "cell_type": "code",
   "execution_count": null,
   "id": "aa54221a-3063-405a-933a-20fb97adf9c4",
   "metadata": {},
   "outputs": [],
   "source": [
    "data_2020_2024.isnull().sum()"
   ]
  },
  {
   "cell_type": "code",
   "execution_count": null,
   "id": "363bb91c-54bc-488c-b7a6-54c27a0f4c60",
   "metadata": {},
   "outputs": [],
   "source": []
  },
  {
   "cell_type": "code",
   "execution_count": null,
   "id": "dbb0c0ad-a51d-4101-90f2-403c4da6714a",
   "metadata": {},
   "outputs": [],
   "source": [
    "# Removing duplicate rows to prevent redundant data\n",
    "data_2020_2024.drop_duplicates(inplace=True)\n",
    "\n",
    "# Confirming the number of unique rows after dropping duplicates\n",
    "print(\"Dataset shape after removing duplicates:\", data_2020_2024.shape)"
   ]
  },
  {
   "cell_type": "code",
   "execution_count": null,
   "id": "328ae256-4a4b-4387-864a-f8f244273201",
   "metadata": {},
   "outputs": [],
   "source": []
  },
  {
   "cell_type": "code",
   "execution_count": null,
   "id": "5a7e1f1a-7f50-46d3-8260-582d13288d8b",
   "metadata": {},
   "outputs": [],
   "source": [
    "# Dictionary to map inconsistent unit names to standard ones\n",
    "unit_conversion = {\n",
    "    \"cel\": \"°C\",       # Convert temperature unit to Celsius symbol\n",
    "    \"mg/l\": \"mg/L\",    # Standardize milligrams per liter (mg/L)\n",
    "    \"ntu\": \"NTU\",      # Standardize Turbidity unit\n",
    "    \"phunits\": \"pH\"    # Simplify pH unit name\n",
    "}\n",
    "\n",
    "# Applying unit conversion mapping to the 'determinand.unit.label' column\n",
    "data_2020_2024[\"determinand.unit.label\"] = data_2020_2024[\"determinand.unit.label\"].replace(unit_conversion)\n",
    "\n",
    "# Displaying unique unit values after standardization\n",
    "print(\"Unique units after standardization:\", data_2020_2024[\"determinand.unit.label\"].unique())"
   ]
  },
  {
   "cell_type": "code",
   "execution_count": null,
   "id": "5b3f5dea-ad9f-432b-89ce-a33f34b4b14d",
   "metadata": {},
   "outputs": [],
   "source": []
  },
  {
   "cell_type": "code",
   "execution_count": null,
   "id": "59d0b2e2-2ed3-4304-81bc-6ba055f17240",
   "metadata": {},
   "outputs": [],
   "source": [
    "# Pivoting the data to restructure it: each parameter becomes a separate column\n",
    "data_pivot = data_2020_2024.pivot_table(\n",
    "    index=[\"sample.sampleDateTime\", \"sample.samplingPoint.easting\", \"sample.samplingPoint.northing\"],  \n",
    "    columns=\"determinand.label\",  \n",
    "    values=\"result\"\n",
    ").reset_index()\n",
    "\n",
    "# Renaming columns for better clarity\n",
    "data_pivot.columns.name = None  # Remove the MultiIndex column name\n",
    "\n",
    "# Displaying the first few rows\n",
    "print(\"Pivoted dataset preview:\")\n",
    "print(data_pivot.head())"
   ]
  },
  {
   "cell_type": "code",
   "execution_count": null,
   "id": "8fe127b1-4a34-483b-b2b6-93bfc2f4fc2c",
   "metadata": {},
   "outputs": [],
   "source": []
  },
  {
   "cell_type": "code",
   "execution_count": null,
   "id": "77887319-064e-4914-b072-ebb3b9f57f7c",
   "metadata": {},
   "outputs": [],
   "source": []
  },
  {
   "cell_type": "code",
   "execution_count": null,
   "id": "4b1064a6-269e-4a83-8cf2-b61f39a48862",
   "metadata": {},
   "outputs": [],
   "source": [
    "data_pivot.head"
   ]
  },
  {
   "cell_type": "code",
   "execution_count": null,
   "id": "0e8f68ba-b719-49b9-b9e8-09ad97fbd6d2",
   "metadata": {},
   "outputs": [],
   "source": []
  },
  {
   "cell_type": "code",
   "execution_count": null,
   "id": "35fb920a-ebae-4e29-82a5-26cd702e37b3",
   "metadata": {},
   "outputs": [],
   "source": []
  },
  {
   "cell_type": "code",
   "execution_count": null,
   "id": "507c6e65-00d1-4f35-8cae-bf0170b1b779",
   "metadata": {},
   "outputs": [],
   "source": []
  },
  {
   "cell_type": "code",
   "execution_count": null,
   "id": "461cfabc-a12d-446f-b90a-69d8cf00403a",
   "metadata": {},
   "outputs": [],
   "source": []
  },
  {
   "cell_type": "code",
   "execution_count": null,
   "id": "e92373f8-a618-4f31-8c8f-0eb63f762600",
   "metadata": {},
   "outputs": [],
   "source": [
    "data_pivot.head()"
   ]
  },
  {
   "cell_type": "code",
   "execution_count": null,
   "id": "fe20a674-d499-4363-b364-243c4c8ac676",
   "metadata": {},
   "outputs": [],
   "source": []
  },
  {
   "cell_type": "code",
   "execution_count": null,
   "id": "399157df-ec47-4c21-9469-e61e33d7b59d",
   "metadata": {},
   "outputs": [],
   "source": []
  },
  {
   "cell_type": "code",
   "execution_count": null,
   "id": "b204da60-0281-455a-a183-d9712f6f1b65",
   "metadata": {},
   "outputs": [],
   "source": []
  },
  {
   "cell_type": "code",
   "execution_count": null,
   "id": "8ec33d34-629c-4124-8a67-1f97e7427be0",
   "metadata": {},
   "outputs": [],
   "source": [
    "# Calculating the percentage of missing values in each column\n",
    "missing_percent = (data_pivot.isnull().sum() / len(data_pivot)) * 100\n",
    "\n",
    "# Print missing values percentage\n",
    "print(\"Missing Values Percentage:\\n\", missing_percent)"
   ]
  },
  {
   "cell_type": "code",
   "execution_count": null,
   "id": "ee83557b-fef0-492a-b610-84fb2fe5a622",
   "metadata": {},
   "outputs": [],
   "source": []
  },
  {
   "cell_type": "code",
   "execution_count": 244,
   "id": "3d34df5a-a2fd-49b7-9695-d14a1ca542c3",
   "metadata": {},
   "outputs": [],
   "source": [
    "# Sorting the dataset by date to ensure proper filling\n",
    "data_pivot.sort_values(by=[\"sample.sampleDateTime\"], inplace=True)"
   ]
  },
  {
   "cell_type": "code",
   "execution_count": null,
   "id": "9da57397-f469-4839-afe6-e2e2bad17fab",
   "metadata": {},
   "outputs": [],
   "source": []
  },
  {
   "cell_type": "code",
   "execution_count": null,
   "id": "8114f598-fc52-4b1e-be40-8fb958aa96ec",
   "metadata": {},
   "outputs": [],
   "source": []
  },
  {
   "cell_type": "code",
   "execution_count": null,
   "id": "ef56f738-3db9-4db4-8ba0-ccf8c0ed0884",
   "metadata": {},
   "outputs": [],
   "source": []
  },
  {
   "cell_type": "code",
   "execution_count": 246,
   "id": "9fec9557-b369-4716-8249-7cdf751f0a66",
   "metadata": {},
   "outputs": [],
   "source": [
    "# Forwarding fill: fills missing values using the last known value\n",
    "data_pivot.ffill(inplace=True)\n",
    "\n",
    "# Backwarding fill: fills missing values using the next known value (if any remain)\n",
    "data_pivot.bfill(inplace=True)"
   ]
  },
  {
   "cell_type": "code",
   "execution_count": null,
   "id": "a82a193b-e5c8-461e-a98f-5e16a1ece6fb",
   "metadata": {},
   "outputs": [],
   "source": []
  },
  {
   "cell_type": "code",
   "execution_count": null,
   "id": "e5e903b6-1ff3-4f8c-8f4a-780c4bcfdd18",
   "metadata": {},
   "outputs": [],
   "source": [
    "data_2020_2024"
   ]
  },
  {
   "cell_type": "code",
   "execution_count": null,
   "id": "fab73b5f-c956-4fdf-8fbe-7d74aa1a6a3c",
   "metadata": {},
   "outputs": [],
   "source": []
  },
  {
   "cell_type": "code",
   "execution_count": null,
   "id": "1a59f672-5179-422e-965d-6a4f75066e6a",
   "metadata": {},
   "outputs": [],
   "source": []
  },
  {
   "cell_type": "code",
   "execution_count": null,
   "id": "1b14f445-9b0c-462c-a976-4600438a190c",
   "metadata": {},
   "outputs": [],
   "source": []
  },
  {
   "cell_type": "code",
   "execution_count": null,
   "id": "7f18e07a-d79f-48bf-8e7e-050ad9994f44",
   "metadata": {},
   "outputs": [],
   "source": []
  },
  {
   "cell_type": "code",
   "execution_count": null,
   "id": "2e624e44-faac-475d-ba4e-34daf4803da0",
   "metadata": {},
   "outputs": [],
   "source": []
  },
  {
   "cell_type": "code",
   "execution_count": 134,
   "id": "e9ad1ee3-6d2f-4f9a-bd42-00c6fec8dfc5",
   "metadata": {},
   "outputs": [],
   "source": []
  },
  {
   "cell_type": "code",
   "execution_count": null,
   "id": "3669670e-d14a-4905-88fa-7ace9c35bb78",
   "metadata": {},
   "outputs": [],
   "source": []
  },
  {
   "cell_type": "code",
   "execution_count": null,
   "id": "07508cd6-5520-42c0-bfc7-75eb2a9e752f",
   "metadata": {},
   "outputs": [],
   "source": []
  },
  {
   "cell_type": "code",
   "execution_count": null,
   "id": "eadc8ca1-bb7c-4b02-a394-fb9e57c1ad7a",
   "metadata": {},
   "outputs": [],
   "source": [
    "# Confirm that all missing values have been handled\n",
    "print(\"Missing values after filling:\\n\", data_pivot.isnull().sum())  # Should print all 0s"
   ]
  },
  {
   "cell_type": "code",
   "execution_count": null,
   "id": "5fe2fd33-c1dd-4b60-825b-48bbf65d161e",
   "metadata": {},
   "outputs": [],
   "source": []
  },
  {
   "cell_type": "code",
   "execution_count": null,
   "id": "167f46c0-d657-4824-bb87-c486652ed3f9",
   "metadata": {},
   "outputs": [],
   "source": []
  },
  {
   "cell_type": "code",
   "execution_count": null,
   "id": "f8c36371-3069-4b8c-882e-d3c510134341",
   "metadata": {},
   "outputs": [],
   "source": [
    "data_pivot.head()"
   ]
  },
  {
   "cell_type": "code",
   "execution_count": null,
   "id": "a9832d9d-b6bf-421d-8616-eb272d27f94a",
   "metadata": {},
   "outputs": [],
   "source": []
  },
  {
   "cell_type": "code",
   "execution_count": null,
   "id": "d2fd006d-8efe-46b1-90f1-41074aa14d52",
   "metadata": {},
   "outputs": [],
   "source": [
    "# Check the number of unique locations in the data based on Easting and Northing\n",
    "unique_locations = data_pivot[['sample.samplingPoint.easting', 'sample.samplingPoint.northing']]\n",
    "num_unique_locations = unique_locations.shape[0]\n",
    "\n",
    "num_unique_locations"
   ]
  },
  {
   "cell_type": "code",
   "execution_count": null,
   "id": "c30b5e2a-9d01-4a13-abcb-129755db970a",
   "metadata": {},
   "outputs": [],
   "source": []
  },
  {
   "cell_type": "code",
   "execution_count": null,
   "id": "3c8da595-a23a-43a0-bbf9-e0603298e106",
   "metadata": {},
   "outputs": [],
   "source": [
    "# Count unique locations in data_pivot\n",
    "num_unique_locations_pivot = data_pivot[['sample.samplingPoint.easting', 'sample.samplingPoint.northing']].drop_duplicates().shape[0]\n",
    "print(f\"Unique locations in data_pivot: {num_unique_locations_pivot}\")"
   ]
  },
  {
   "cell_type": "code",
   "execution_count": null,
   "id": "ee839ae8-74ed-414e-a3bd-bff0e5766d8e",
   "metadata": {},
   "outputs": [],
   "source": []
  },
  {
   "cell_type": "code",
   "execution_count": null,
   "id": "60dbbe00-92ca-450c-b995-e45537a03d6c",
   "metadata": {},
   "outputs": [],
   "source": []
  },
  {
   "cell_type": "code",
   "execution_count": null,
   "id": "187696bf-0e8f-4814-b4d3-f1fe95ed3e01",
   "metadata": {},
   "outputs": [],
   "source": [
    "\n",
    "# Definin the outlier detection function using the IQR method\n",
    "def detect_outliers_iqr(df, columns):\n",
    "    \"\"\"\n",
    "    Detect outliers in the given DataFrame 'df' for the specified 'columns'\n",
    "    using the Interquartile Range (IQR) method.\n",
    "    \"\"\"\n",
    "    outliers = {}\n",
    "    for col in columns:\n",
    "        Q1 = df[col].quantile(0.25)  # 25th percentile\n",
    "        Q3 = df[col].quantile(0.75)  # 75th percentile\n",
    "        IQR = Q3 - Q1                # Interquartile Range\n",
    "\n",
    "        # Define lower and upper bounds for outliers\n",
    "        lower_bound = Q1 - 1.5 * IQR\n",
    "        upper_bound = Q3 + 1.5 * IQR\n",
    "\n",
    "        # Count outliers in the column\n",
    "        outlier_count = ((df[col] < lower_bound) | (df[col] > upper_bound)).sum()\n",
    "        outliers[col] = {\n",
    "            \"Outlier Count\": outlier_count,\n",
    "            \"Lower Bound\": lower_bound,\n",
    "            \"Upper Bound\": upper_bound\n",
    "        }\n",
    "    \n",
    "    # Converting the dictionary to a DataFrame for easier readability\n",
    "    return pd.DataFrame.from_dict(outliers, orient=\"index\")\n",
    "\n",
    "# Get a list of numeric columns (excluding time and location columns)\n",
    "numeric_columns = [\n",
    "    col for col in data_pivot.columns \n",
    "    if col not in [\"sample.sampleDateTime\", \"sample.samplingPoint.easting\", \"sample.samplingPoint.northing\"]\n",
    "]\n",
    "\n",
    "# Detect the outliers on the pivoted DataFrame\n",
    "outlier_df = detect_outliers_iqr(data_pivot, numeric_columns)\n",
    "\n",
    "# Displaying the outlier detection results\n",
    "print(\"Outlier Detection Results:\")\n",
    "print(outlier_df)"
   ]
  },
  {
   "cell_type": "code",
   "execution_count": null,
   "id": "fb2f2d89-bd78-458c-9125-eafa4f5cf40b",
   "metadata": {},
   "outputs": [],
   "source": []
  },
  {
   "cell_type": "code",
   "execution_count": null,
   "id": "4513e8cc-ecbc-4ea8-a896-198711ac9e6d",
   "metadata": {},
   "outputs": [],
   "source": []
  },
  {
   "cell_type": "code",
   "execution_count": null,
   "id": "d1b88615-83a5-40d7-90bb-dcf377c6bbbf",
   "metadata": {},
   "outputs": [],
   "source": []
  },
  {
   "cell_type": "code",
   "execution_count": null,
   "id": "39371e5f-7e1f-43ee-93a2-375a10716d79",
   "metadata": {},
   "outputs": [],
   "source": []
  },
  {
   "cell_type": "code",
   "execution_count": null,
   "id": "18882ec8-98fa-46ba-84af-f11b270d1533",
   "metadata": {},
   "outputs": [],
   "source": []
  },
  {
   "cell_type": "code",
   "execution_count": null,
   "id": "fb7168e5-cfbb-4938-bccf-c8e8056e14f7",
   "metadata": {},
   "outputs": [],
   "source": []
  },
  {
   "cell_type": "code",
   "execution_count": null,
   "id": "d296189e-2cf6-4302-9573-5d931e07f925",
   "metadata": {},
   "outputs": [],
   "source": []
  },
  {
   "cell_type": "code",
   "execution_count": null,
   "id": "c7d132bc-0dc2-498b-998d-999972481e32",
   "metadata": {},
   "outputs": [],
   "source": []
  },
  {
   "cell_type": "code",
   "execution_count": null,
   "id": "36c7a52b-ae18-4314-a372-a3b21e9e28ae",
   "metadata": {},
   "outputs": [],
   "source": [
    "# Creating a list of numeric columns, excluding datetime and location columns.\n",
    "numeric_columns = [\n",
    "    col for col in data_pivot.columns \n",
    "    if col not in [\"sample.sampleDateTime\", \"sample.samplingPoint.easting\", \"sample.samplingPoint.northing\"]\n",
    "]\n",
    "\n",
    "# Printing summary statistics BEFORE winsorization.\n",
    "print(\"Summary Statistics BEFORE Winsorization:\")\n",
    "print(data_pivot[numeric_columns].describe())\n",
    "\n",
    "# Defining the winsorization function.\n",
    "def winsorize_series(series, factor=1.5):\n",
    "    \"\"\"\n",
    "    Winsorize a Pandas Series using the Interquartile Range (IQR) method.\n",
    "    \n",
    "    Parameters:\n",
    "        series (pd.Series): The data series to winsorize.\n",
    "        factor (float): The multiplier for the IQR to determine bounds (default is 1.5).\n",
    "    \n",
    "    Returns:\n",
    "        pd.Series: The winsorized series where values below the lower bound are set to the lower bound\n",
    "                   and values above the upper bound are set to the upper bound.\n",
    "    \"\"\"\n",
    "    # Calculating the first and third quartiles.\n",
    "    Q1 = series.quantile(0.25)\n",
    "    Q3 = series.quantile(0.75)\n",
    "    \n",
    "    # Calculating the Interquartile Range (IQR).\n",
    "    IQR = Q3 - Q1\n",
    "    \n",
    "    # Defining the lower and upper bounds based on the factor.\n",
    "    lower_bound = Q1 - factor * IQR\n",
    "    upper_bound = Q3 + factor * IQR\n",
    "    \n",
    "    # Cliping the series so that all values fall within the lower and upper bounds.\n",
    "    return series.clip(lower=lower_bound, upper=upper_bound)\n",
    "\n",
    "# Applying winsorization to each numeric column in data_pivot.\n",
    "for col in numeric_columns:\n",
    "    data_pivot[col] = winsorize_series(data_pivot[col])\n",
    "\n",
    "# Printing summary statistics AFTER winsorization to see how the distribution has changed.\n",
    "print(\"\\nSummary Statistics AFTER Winsorization:\")\n",
    "print(data_pivot[numeric_columns].describe())"
   ]
  },
  {
   "cell_type": "code",
   "execution_count": null,
   "id": "b9b05c5e-fb74-4a6b-afa1-f3a3f9280ad4",
   "metadata": {},
   "outputs": [],
   "source": []
  },
  {
   "cell_type": "code",
   "execution_count": null,
   "id": "a52795f8-3d08-4e58-9521-9d5fc6913a79",
   "metadata": {},
   "outputs": [],
   "source": []
  },
  {
   "cell_type": "code",
   "execution_count": null,
   "id": "9491cb48-ed19-4867-81eb-125f38bae3bb",
   "metadata": {},
   "outputs": [],
   "source": []
  },
  {
   "cell_type": "code",
   "execution_count": null,
   "id": "4c376844-92f8-40ea-99cf-fcd6e85dfced",
   "metadata": {},
   "outputs": [],
   "source": [
    "plt.figure(figsize=(12, 6))\n",
    "data_pivot[numeric_columns].boxplot(rot=90)\n",
    "plt.title(\"Boxplot of Water Quality Parameters After Winsorization\")\n",
    "plt.show()"
   ]
  },
  {
   "cell_type": "code",
   "execution_count": null,
   "id": "02b2d206-d83d-47bd-bdd3-dd63f7d63015",
   "metadata": {},
   "outputs": [],
   "source": []
  },
  {
   "cell_type": "code",
   "execution_count": 256,
   "id": "52afeb3a-bd33-40ab-a2d1-3282bd94a885",
   "metadata": {},
   "outputs": [],
   "source": [
    "# Extracting the year from the sample date/time\n",
    "data_pivot['year'] = data_pivot['sample.sampleDateTime'].dt.year\n",
    "\n",
    "# Extracting the month from the sample date/time\n",
    "data_pivot['month'] = data_pivot['sample.sampleDateTime'].dt.month\n",
    "\n",
    "# Extracting the day of the month from the sample date/time\n",
    "data_pivot['day'] = data_pivot['sample.sampleDateTime'].dt.day\n",
    "\n",
    "# Extracting the day of the week (0=Monday, 6=Sunday) from the sample date/time\n",
    "data_pivot['day_of_week'] = data_pivot['sample.sampleDateTime'].dt.dayofweek"
   ]
  },
  {
   "cell_type": "code",
   "execution_count": null,
   "id": "bb8718c6-1940-48ca-abe6-8363454689e6",
   "metadata": {},
   "outputs": [],
   "source": []
  },
  {
   "cell_type": "code",
   "execution_count": null,
   "id": "2df51c4f-6e86-4d25-94b0-610f8da331a8",
   "metadata": {},
   "outputs": [],
   "source": []
  },
  {
   "cell_type": "code",
   "execution_count": null,
   "id": "8e64bcd3-2e50-4e60-884d-0072832ca433",
   "metadata": {},
   "outputs": [],
   "source": [
    "# Extracting spatial features (Easting and Northing) from the DataFrame.\n",
    "spatial_features = data_pivot[['sample.samplingPoint.easting', 'sample.samplingPoint.northing']]\n",
    "\n",
    "# Initialising KMeans with 10 clusters.\n",
    "# The 'random_state=42' parameter ensures that the clustering is reproducible.\n",
    "kmeans = KMeans(n_clusters=10, random_state=42)\n",
    "\n",
    "# Fitting the KMeans model on the spatial features and assign each row a cluster label.\n",
    "\n",
    "data_pivot['location_cluster'] = kmeans.fit_predict(spatial_features)\n",
    "\n",
    "print(\"Cluster Centers (Easting, Northing):\")\n",
    "print(kmeans.cluster_centers_)\n",
    "\n",
    "print(\"Samples per Cluster:\")\n",
    "print(data_pivot['location_cluster'].value_counts())"
   ]
  },
  {
   "cell_type": "code",
   "execution_count": null,
   "id": "21bd09ef-343f-4478-9a2a-b2ba8a32876e",
   "metadata": {},
   "outputs": [],
   "source": []
  },
  {
   "cell_type": "code",
   "execution_count": null,
   "id": "6fc6c4ce-8b9a-46c0-bd49-d7e2c1705de0",
   "metadata": {},
   "outputs": [],
   "source": []
  },
  {
   "cell_type": "code",
   "execution_count": null,
   "id": "07fbfefd-20de-4fc6-99d0-8adce8185b1e",
   "metadata": {},
   "outputs": [],
   "source": []
  },
  {
   "cell_type": "code",
   "execution_count": null,
   "id": "2bbac021-88eb-4c21-9b48-9bec406565f7",
   "metadata": {},
   "outputs": [],
   "source": [
    "data_pivot.head()\n"
   ]
  },
  {
   "cell_type": "code",
   "execution_count": null,
   "id": "71b895da-6511-45d7-8de4-803df3827578",
   "metadata": {},
   "outputs": [],
   "source": []
  },
  {
   "cell_type": "code",
   "execution_count": null,
   "id": "3967d732-8860-41bd-88e5-c65359d812e2",
   "metadata": {},
   "outputs": [],
   "source": []
  },
  {
   "cell_type": "code",
   "execution_count": null,
   "id": "29a2331a-7553-4f48-a5fb-31b32447b378",
   "metadata": {},
   "outputs": [],
   "source": []
  },
  {
   "cell_type": "code",
   "execution_count": null,
   "id": "ccaef005-4d3b-40a3-af8e-690ad1fce544",
   "metadata": {},
   "outputs": [],
   "source": [
    "\"\"\"\n",
    "This script processes the 'data_pivot' DataFrame by:\n",
    "1. Sorting the data by spatial coordinates and time.\n",
    "2. Computing a 7-observation rolling average for each numeric column,\n",
    "   grouped by unique spatial locations (defined by easting and northing).\n",
    "\"\"\"\n",
    "data_pivot = data_pivot.sort_values(\n",
    "    by=['sample.samplingPoint.easting', 'sample.samplingPoint.northing', 'sample.sampleDateTime']\n",
    ")\n",
    "\n",
    "# Looping through each numeric column\n",
    "# and compute a 7-observation rolling average for each unique location.\n",
    "for col in numeric_columns:\n",
    "    # Creating a new column name for the rolling average (e.g., \"pH_rolling7\" for a column named \"pH\")\n",
    "    new_col = f\"{col}_rolling7\"\n",
    "    \n",
    "    # Grouping by spatial location and calculate the rolling mean with a window of 7 observations.\n",
    "    # The 'min_periods=1' parameter ensures that even if there are fewer than 7 observations,\n",
    "    # the mean is computed from the available data.\n",
    "    data_pivot[new_col] = (\n",
    "        data_pivot.groupby(['sample.samplingPoint.easting', 'sample.samplingPoint.northing'])[col]\n",
    "                  .rolling(window=7, min_periods=1)\n",
    "                  .mean()\n",
    "                  .reset_index(level=[0, 1], drop=True)\n",
    "    )\n",
    "\n",
    "\n",
    "print(\"Data sample with rolling averages:\")\n",
    "print(data_pivot.head())\n"
   ]
  },
  {
   "cell_type": "code",
   "execution_count": null,
   "id": "b4279f1d-fc3f-46ca-9253-42d488b1024c",
   "metadata": {},
   "outputs": [],
   "source": []
  },
  {
   "cell_type": "code",
   "execution_count": null,
   "id": "ab613aa3-962d-4c41-9c8a-c57f4f5cc56d",
   "metadata": {},
   "outputs": [],
   "source": []
  },
  {
   "cell_type": "code",
   "execution_count": null,
   "id": "fca929b7-4097-4faf-a9ef-cb642f337ada",
   "metadata": {},
   "outputs": [],
   "source": [
    "data_pivot.head()"
   ]
  },
  {
   "cell_type": "code",
   "execution_count": null,
   "id": "f9b5e01a-c789-405c-b602-f8d43a47a2ca",
   "metadata": {},
   "outputs": [],
   "source": [
    "\n",
    "data_pivot.head()"
   ]
  },
  {
   "cell_type": "code",
   "execution_count": null,
   "id": "746fe038-26f1-4007-b65f-9b15bbb7ab8d",
   "metadata": {},
   "outputs": [],
   "source": []
  },
  {
   "cell_type": "code",
   "execution_count": null,
   "id": "f1cbc090-9b4a-4ca0-8c70-2a418b3c4a59",
   "metadata": {},
   "outputs": [],
   "source": [
    "\"\"\"\n",
    "Lag Feature Engineering for Water Quality Data\n",
    "------------------------------------------------\n",
    "This script creates lag features for numeric water quality parameters\n",
    "from the 'data_pivot' DataFrame. For each unique location, it calculates:\n",
    "    - A 1-step lag (previous observation)\n",
    "    - A 2-step lag (observation before the previous one)\n",
    "After creating the lag features, missing values are handled via forward-fill\n",
    "followed by backward-fill within each location group.\n",
    "\"\"\"\n",
    "\n",
    " # Create a copy of data_pivot for lag feature engineering\n",
    "data_lag = data_pivot.copy()\n",
    "\n",
    "# Looping through each numeric column and create lag features for each unique location.\n",
    "for col in numeric_columns:\n",
    "    # Create a new column for the 1-step lag (previous observation)\n",
    "    lag1_col = f\"{col}_lag1\"\n",
    "    data_lag[lag1_col] = data_lag.groupby(\n",
    "        ['sample.samplingPoint.easting', 'sample.samplingPoint.northing']\n",
    "    )[col].shift(1)\n",
    "    \n",
    "    # Creating a new column for the 2-step lag (the observation before the previous one)\n",
    "    lag2_col = f\"{col}_lag2\"\n",
    "    data_lag[lag2_col] = data_lag.groupby(\n",
    "        ['sample.samplingPoint.easting', 'sample.samplingPoint.northing']\n",
    "    )[col].shift(2)\n",
    "\n",
    "# Handli g missing values in the lag features by applying forward-fill and backward-fill.\n",
    "\n",
    "data_lag = data_lag.groupby(\n",
    "    ['sample.samplingPoint.easting', 'sample.samplingPoint.northing']\n",
    ").apply(lambda group: group.ffill().bfill()).reset_index(drop=True)\n",
    "\n",
    "\n",
    "print(\"Data sample with lag features and missing values handled:\")\n",
    "print(data_lag.head())"
   ]
  },
  {
   "cell_type": "code",
   "execution_count": null,
   "id": "cc9ebde3-39d7-4a77-9b54-b970b7e5b216",
   "metadata": {},
   "outputs": [],
   "source": []
  },
  {
   "cell_type": "code",
   "execution_count": null,
   "id": "6f368408-b13d-4731-b85e-d8d0d3493708",
   "metadata": {},
   "outputs": [],
   "source": []
  },
  {
   "cell_type": "code",
   "execution_count": null,
   "id": "198bb56a-3f15-44f6-8ef5-945e20d33abf",
   "metadata": {},
   "outputs": [],
   "source": [
    "data_lag.head()"
   ]
  },
  {
   "cell_type": "code",
   "execution_count": null,
   "id": "47ae7e71-76f5-4485-a434-890a9b4f0bb3",
   "metadata": {},
   "outputs": [],
   "source": []
  },
  {
   "cell_type": "code",
   "execution_count": null,
   "id": "ae568633-9d41-425c-aed1-ae3350bc86e1",
   "metadata": {},
   "outputs": [],
   "source": []
  },
  {
   "cell_type": "code",
   "execution_count": null,
   "id": "00be402c-237c-48b5-9df2-994e93c5cdac",
   "metadata": {},
   "outputs": [],
   "source": [
    "# Check for missing values per column in data_pivot\n",
    "print(\"Missing values per column:\")\n",
    "print(data_lag.isnull().sum())"
   ]
  },
  {
   "cell_type": "code",
   "execution_count": null,
   "id": "b432cdde-6bd5-4398-be1d-4574427e3479",
   "metadata": {},
   "outputs": [],
   "source": []
  },
  {
   "cell_type": "code",
   "execution_count": null,
   "id": "8e41b2b3-ae19-4a09-96c9-f4b52c66a86d",
   "metadata": {},
   "outputs": [],
   "source": []
  },
  {
   "cell_type": "code",
   "execution_count": 193,
   "id": "aa9f6c17-107d-467e-b7d9-0947a2d16185",
   "metadata": {},
   "outputs": [],
   "source": [
    "data_final = data_lag.copy()"
   ]
  },
  {
   "cell_type": "code",
   "execution_count": null,
   "id": "e3cfb33e-fed5-4e71-834c-00ff1e6df361",
   "metadata": {},
   "outputs": [],
   "source": []
  },
  {
   "cell_type": "code",
   "execution_count": 212,
   "id": "4e289c9a-8db0-49d7-95c2-dd0100c3a60d",
   "metadata": {},
   "outputs": [],
   "source": [
    "data_final_ = data_final.sort_values(by='sample.sampleDateTime')"
   ]
  },
  {
   "cell_type": "code",
   "execution_count": null,
   "id": "2a28b896-6102-48e3-8182-c234ef47a3f3",
   "metadata": {},
   "outputs": [],
   "source": []
  },
  {
   "cell_type": "code",
   "execution_count": null,
   "id": "bc998582-7a6b-48db-9b41-20fa09ea3031",
   "metadata": {},
   "outputs": [],
   "source": []
  },
  {
   "cell_type": "code",
   "execution_count": null,
   "id": "c4fe73de-1fef-4a8e-b0d9-020cc7257096",
   "metadata": {},
   "outputs": [],
   "source": []
  },
  {
   "cell_type": "code",
   "execution_count": null,
   "id": "87e4a839-3e94-40f7-971d-9ae34215d292",
   "metadata": {},
   "outputs": [],
   "source": []
  },
  {
   "cell_type": "code",
   "execution_count": 221,
   "id": "56fcff64-50ae-45fd-a622-7a12417ad78f",
   "metadata": {},
   "outputs": [],
   "source": [
    "data_final_.to_csv('final_water_quality_df.csv', index=False)"
   ]
  },
  {
   "cell_type": "code",
   "execution_count": null,
   "id": "20bef427-5632-4423-993f-80cd46010a7b",
   "metadata": {},
   "outputs": [],
   "source": []
  },
  {
   "cell_type": "code",
   "execution_count": null,
   "id": "18f2a4b1-6db2-4207-9756-1e831a89e888",
   "metadata": {},
   "outputs": [],
   "source": []
  },
  {
   "cell_type": "code",
   "execution_count": null,
   "id": "1fea0817-3cde-421c-b01e-08efbe93ccbd",
   "metadata": {},
   "outputs": [],
   "source": []
  },
  {
   "cell_type": "code",
   "execution_count": null,
   "id": "635d202a-c197-41ca-b0bc-dfca83a038ca",
   "metadata": {},
   "outputs": [],
   "source": []
  },
  {
   "cell_type": "code",
   "execution_count": null,
   "id": "8b0e6a81-3020-4354-b706-2b93d893cd9a",
   "metadata": {},
   "outputs": [],
   "source": []
  },
  {
   "cell_type": "code",
   "execution_count": null,
   "id": "d632b4f8-b5a3-48f8-a2e7-102a2637d357",
   "metadata": {},
   "outputs": [],
   "source": []
  },
  {
   "cell_type": "code",
   "execution_count": null,
   "id": "e6ed99b8-c3f0-43fd-a531-f031e2070128",
   "metadata": {},
   "outputs": [],
   "source": []
  },
  {
   "cell_type": "code",
   "execution_count": null,
   "id": "448b7bd8-4f7b-4013-bcc2-86b551532b04",
   "metadata": {},
   "outputs": [],
   "source": []
  },
  {
   "cell_type": "code",
   "execution_count": null,
   "id": "0e98a23a-6296-42ee-963b-8aeeb908c083",
   "metadata": {},
   "outputs": [],
   "source": []
  },
  {
   "cell_type": "code",
   "execution_count": null,
   "id": "884c4353-0630-4904-a442-9269b836358b",
   "metadata": {},
   "outputs": [],
   "source": []
  },
  {
   "cell_type": "code",
   "execution_count": null,
   "id": "df39fbe0-018d-47f0-9c02-a07e5ef988bb",
   "metadata": {},
   "outputs": [],
   "source": []
  },
  {
   "cell_type": "code",
   "execution_count": null,
   "id": "11ae2f03-83de-40c7-aa81-4d17cb51645e",
   "metadata": {},
   "outputs": [],
   "source": []
  },
  {
   "cell_type": "code",
   "execution_count": null,
   "id": "751886a1-ea91-4fef-8988-343fcfab7fa6",
   "metadata": {},
   "outputs": [],
   "source": []
  },
  {
   "cell_type": "code",
   "execution_count": 566,
   "id": "34bf80fc-7aca-4986-adf5-f5262aad15ef",
   "metadata": {},
   "outputs": [],
   "source": []
  },
  {
   "cell_type": "code",
   "execution_count": null,
   "id": "b6075009-8f27-4d8f-9ec9-a9a36d90baeb",
   "metadata": {},
   "outputs": [],
   "source": []
  },
  {
   "cell_type": "code",
   "execution_count": 568,
   "id": "297a57ed-a00e-45b7-87ac-3e845caecb69",
   "metadata": {},
   "outputs": [],
   "source": []
  },
  {
   "cell_type": "code",
   "execution_count": null,
   "id": "f8072ea8-8243-497f-9dd9-f7ba051c7171",
   "metadata": {},
   "outputs": [],
   "source": []
  },
  {
   "cell_type": "code",
   "execution_count": null,
   "id": "19bf23b2-52b6-4a6f-a563-07a30163baec",
   "metadata": {},
   "outputs": [],
   "source": []
  },
  {
   "cell_type": "code",
   "execution_count": null,
   "id": "488fd75d-30f5-4431-ad31-dd1ef8b8e206",
   "metadata": {},
   "outputs": [],
   "source": []
  }
 ],
 "metadata": {
  "kernelspec": {
   "display_name": "Python 3",
   "language": "python",
   "name": "python3"
  },
  "language_info": {
   "codemirror_mode": {
    "name": "ipython",
    "version": 3
   },
   "file_extension": ".py",
   "mimetype": "text/x-python",
   "name": "python",
   "nbconvert_exporter": "python",
   "pygments_lexer": "ipython3",
   "version": "3.13.0"
  }
 },
 "nbformat": 4,
 "nbformat_minor": 5
}
